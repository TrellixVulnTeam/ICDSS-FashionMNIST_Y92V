{
 "cells": [
  {
   "cell_type": "markdown",
   "metadata": {
    "colab_type": "text",
    "id": "JgLz63VP6vyo"
   },
   "source": [
    "# Training 4 layer CNN"
   ]
  },
  {
   "cell_type": "markdown",
   "metadata": {
    "colab_type": "text",
    "id": "JNLMafld6y74"
   },
   "source": [
    "## Google Drive Settings\n",
    "\n",
    "\n"
   ]
  },
  {
   "cell_type": "code",
   "execution_count": null,
   "metadata": {
    "colab": {
     "base_uri": "https://localhost:8080/",
     "height": 124
    },
    "colab_type": "code",
    "id": "5cYukOO0nZB-",
    "outputId": "3eb1bfe9-a812-460a-d62e-06c9908cc2e5"
   },
   "outputs": [],
   "source": [
    "from google.colab import drive\n",
    "import os\n",
    "\n",
    "drive.mount('/content/drive')\n",
    "os.chdir('/content/drive/My Drive/Colab Notebooks/icdss')"
   ]
  },
  {
   "cell_type": "code",
   "execution_count": null,
   "metadata": {
    "colab": {
     "base_uri": "https://localhost:8080/",
     "height": 35
    },
    "colab_type": "code",
    "id": "5DZUXEm0LQB0",
    "outputId": "c1196a13-b417-4ede-b5b5-d808761fc837"
   },
   "outputs": [],
   "source": [
    "try:\n",
    "  # %tensorflow_version only exists in Colab.\n",
    "  %tensorflow_version 2.x\n",
    "except Exception:\n",
    "  pass\n",
    "\n",
    "# Load the TensorBoard notebook extension.\n",
    "%load_ext tensorboard"
   ]
  },
  {
   "cell_type": "markdown",
   "metadata": {
    "colab_type": "text",
    "id": "H4Y20YlN69v-"
   },
   "source": [
    "## Data Preprocessing"
   ]
  },
  {
   "cell_type": "code",
   "execution_count": 1,
   "metadata": {
    "colab": {
     "base_uri": "https://localhost:8080/",
     "height": 35
    },
    "colab_type": "code",
    "id": "V7tzMx3CLUI5",
    "outputId": "3eb49483-a64c-456c-e400-c274eca6123e"
   },
   "outputs": [
    {
     "name": "stderr",
     "output_type": "stream",
     "text": [
      "Using TensorFlow backend.\n"
     ]
    }
   ],
   "source": [
    "from tensorflow import keras\n",
    "import matplotlib.pyplot as plt\n",
    "import numpy as np\n",
    "import sklearn.metrics\n",
    "import tensorflow as tf\n",
    "from tensorflow.keras.preprocessing.image import ImageDataGenerator\n",
    "import pandas as pd\n",
    "from reader import get_images\n",
    "from keras import utils\n",
    "from sklearn.model_selection import train_test_split\n",
    "import itertools"
   ]
  },
  {
   "cell_type": "code",
   "execution_count": 2,
   "metadata": {
    "colab": {
     "base_uri": "https://localhost:8080/",
     "height": 176
    },
    "colab_type": "code",
    "id": "vdpkiWZxoLyJ",
    "outputId": "8fe7d137-59f1-4612-a9e6-112557bc69f8"
   },
   "outputs": [
    {
     "name": "stderr",
     "output_type": "stream",
     "text": [
      "C:\\Users\\tansi\\Projects\\ICDSS-FashionMNIST\\reader.py:38: FutureWarning: Method .as_matrix will be removed in a future version. Use .values instead.\n",
      "  x_train = df_train.drop('label', axis=1).as_matrix().astype(np.uint8)\n",
      "C:\\Users\\tansi\\Projects\\ICDSS-FashionMNIST\\reader.py:39: FutureWarning: Method .as_matrix will be removed in a future version. Use .values instead.\n",
      "  y_train = df_train['label'].as_matrix().astype(np.uint8)\n",
      "C:\\Users\\tansi\\Projects\\ICDSS-FashionMNIST\\reader.py:40: FutureWarning: Method .as_matrix will be removed in a future version. Use .values instead.\n",
      "  x_test = df_test.drop('label', axis=1).as_matrix().astype(np.uint8)\n",
      "C:\\Users\\tansi\\Projects\\ICDSS-FashionMNIST\\reader.py:41: FutureWarning: Method .as_matrix will be removed in a future version. Use .values instead.\n",
      "  y_test = df_test['label'].as_matrix().astype(np.uint8)\n"
     ]
    }
   ],
   "source": [
    "#import dataset\n",
    "(x_train, y_train_raw), (x_test, y_test_raw) = get_images() \n",
    "\n",
    "# Reshape data to image's dimension 28 by 28\n",
    "x_train = x_train.reshape(-1,28,28)\n",
    "x_test = x_test.reshape(-1,28,28)\n",
    "\n",
    "#add another dimension to the data\n",
    "x_train = np.expand_dims(x_train, axis=3)\n",
    "x_test = np.expand_dims(x_test, axis=3)\n",
    "x_train.shape , x_test.shape\n",
    "\n",
    "x_train = x_train.astype(np.float32)\n",
    "x_test = x_test.astype(np.float32)\n"
   ]
  },
  {
   "cell_type": "code",
   "execution_count": 3,
   "metadata": {
    "colab": {
     "base_uri": "https://localhost:8080/",
     "height": 35
    },
    "colab_type": "code",
    "id": "29HLSc2Lood_",
    "outputId": "427f95f3-b799-43e9-dffc-0aa3250335bd"
   },
   "outputs": [
    {
     "data": {
      "text/plain": [
       "((48000, 28, 28, 1), (12000, 28, 28, 1), (48000, 10), (12000, 10))"
      ]
     },
     "execution_count": 3,
     "metadata": {},
     "output_type": "execute_result"
    }
   ],
   "source": [
    "#Change classes to a categorical type\n",
    "num_classes = 10\n",
    "y_train = utils.to_categorical(y_train_raw, num_classes)\n",
    "y_test = utils.to_categorical(y_test_raw, num_classes)\n",
    "\n",
    "# split original training data to 80 % training data and the other 20% for validation data\n",
    "x_train, x_val, y_train, y_val = train_test_split(x_train, y_train, test_size=0.2, random_state=13)\n",
    "\n",
    "# Check the data size\n",
    "x_train.shape, x_val.shape, y_train.shape, y_val.shape"
   ]
  },
  {
   "cell_type": "markdown",
   "metadata": {
    "colab_type": "text",
    "id": "Epnmp0Dhvcy3"
   },
   "source": [
    "## Data Augmentation"
   ]
  },
  {
   "cell_type": "code",
   "execution_count": 4,
   "metadata": {
    "colab": {},
    "colab_type": "code",
    "id": "p5TY0_CYvHOC"
   },
   "outputs": [],
   "source": [
    "# Random Erasing Data Augmentation\n",
    "def get_random_eraser(p=0.5, s_l=0.02, s_h=0.1, r_1=0.1, r_2=1/0.1, v_l=0, v_h=1, pixel_level=True):\n",
    "    def eraser(input_img):\n",
    "        img_h, img_w, img_c = input_img.shape\n",
    "        p_1 = np.random.rand()\n",
    "\n",
    "        if p_1 > p:\n",
    "            return input_img\n",
    "\n",
    "        while True:\n",
    "            s = np.random.uniform(s_l, s_h) * img_h * img_w\n",
    "            r = np.random.uniform(r_1, r_2)\n",
    "            w = int(np.sqrt(s / r))\n",
    "            h = int(np.sqrt(s * r))\n",
    "            left = np.random.randint(0, img_w)\n",
    "            top = np.random.randint(0, img_h)\n",
    "\n",
    "            if left + w <= img_w and top + h <= img_h:\n",
    "                break\n",
    "\n",
    "        if pixel_level:\n",
    "            c = np.random.uniform(v_l, v_h, (h, w, img_c))\n",
    "        else:\n",
    "            c = np.random.uniform(v_l, v_h)\n",
    "\n",
    "        input_img[top:top + h, left:left + w, :] = c\n",
    "\n",
    "        return input_img\n",
    "\n",
    "    return eraser"
   ]
  },
  {
   "cell_type": "code",
   "execution_count": 22,
   "metadata": {
    "colab": {
     "base_uri": "https://localhost:8080/",
     "height": 52
    },
    "colab_type": "code",
    "id": "7HY3NNKYtxYM",
    "outputId": "159964f3-6d41-4d26-fc6f-08ffc4586c85"
   },
   "outputs": [
    {
     "name": "stdout",
     "output_type": "stream",
     "text": [
      "Preparing generator for train dataset\n",
      "Preparing generator for validation dataset\n"
     ]
    }
   ],
   "source": [
    "# All images will be rescaled by 1./255. We apply data augmentation here.\n",
    "train_datagen = ImageDataGenerator(rescale=1./255,\n",
    "                                   brightness_range= [0.5,1.5],\n",
    "                                   horizontal_flip=True,\n",
    "                                   height_shift_range=0.2,\n",
    "                                   fill_mode='nearest',\n",
    "                                   preprocessing_function=get_random_eraser(v_l=0, v_h=1))\n",
    "\n",
    "val_datagen = ImageDataGenerator(rescale=1./255)\n",
    "\n",
    "bs = 256\n",
    "\n",
    "# Flow training images in batches of 32 using train_datagen generator\n",
    "print(\"Preparing generator for train dataset\")\n",
    "train_generator = train_datagen.flow(x_train, \n",
    "                                     y_train, \n",
    "                                     batch_size=bs)\n",
    "\n",
    "# Flow validation images in batches of 32 using val_datagen generator\n",
    "print(\"Preparing generator for validation dataset\")\n",
    "val_generator = val_datagen.flow(x_val, \n",
    "                                 y_val,\n",
    "                                 batch_size=bs)"
   ]
  },
  {
   "cell_type": "markdown",
   "metadata": {
    "colab_type": "text",
    "id": "mQ0erYvX-L91"
   },
   "source": [
    "## Building Model\n"
   ]
  },
  {
   "cell_type": "code",
   "execution_count": 33,
   "metadata": {
    "colab": {},
    "colab_type": "code",
    "id": "wieBqRVnNBqf"
   },
   "outputs": [],
   "source": [
    "from tensorflow.keras.layers import Conv2D, BatchNormalization, MaxPooling2D, Dense, Dropout, LeakyReLU, Flatten, Activation\n",
    "from tensorflow.keras.wrappers.scikit_learn import KerasClassifier\n",
    "from sklearn.model_selection import GridSearchCV\n",
    "from tensorflow.keras.models import Sequential\n",
    "from tensorflow.keras import regularizers"
   ]
  },
  {
   "cell_type": "code",
   "execution_count": 44,
   "metadata": {
    "colab": {},
    "colab_type": "code",
    "id": "-cUwILnDtz4U"
   },
   "outputs": [],
   "source": [
    "def make_model(learning_rate = 0.01,\n",
    "               optimizer = \"adam\", \n",
    "               dense_layer_sizes = 512,\n",
    "               activation = 'relu'):\n",
    "\n",
    "    model = Sequential()\n",
    "    model.add(Conv2D(32, (3,3), activation = activation, input_shape = (28,28,1), padding = 'same'))\n",
    "    model.add(BatchNormalization())\n",
    "    model.add(MaxPooling2D(2,2))\n",
    "\n",
    "    model.add(Conv2D(68, (3,3), activation = activation, input_shape = (28,28,1), padding = 'same'))\n",
    "    model.add(BatchNormalization())\n",
    "    model.add(MaxPooling2D(2,2))\n",
    "\n",
    "    model.add(Conv2D(128, (3,3), activation = activation, input_shape = (28,28,1), padding = 'same'))\n",
    "    model.add(BatchNormalization())\n",
    "    model.add(MaxPooling2D(2,2))\n",
    "\n",
    "    model.add(Conv2D(256, (3,3), activation = activation, input_shape = (28,28,1), padding = 'same'))\n",
    "    model.add(BatchNormalization())\n",
    "    model.add(MaxPooling2D(2,2))\n",
    "\n",
    "    model.add(Flatten())\n",
    "    \n",
    "    model.add(Dense(512,kernel_regularizer=regularizers.l2(0.01)))\n",
    "    model.add(Activation('relu'))\n",
    "    model.add(Dropout(0.5))\n",
    "\n",
    "    model.add(Dense(256, kernel_regularizer=regularizers.l2(0.01)))\n",
    "    model.add(Activation('relu'))\n",
    "    model.add(Dropout(0.5))\n",
    "\n",
    "    model.add(Dense(num_classes))\n",
    "    model.add(Activation('softmax'))\n",
    "\n",
    "    Adam = tf.keras.optimizers.Adam(lr=learning_rate)\n",
    "    SGD = tf.keras.optimizers.SGD(lr=learning_rate)\n",
    "\n",
    "    #Choose categorical_crossentropy and Adam optimizer\n",
    "    model.compile(loss='categorical_crossentropy',\n",
    "                  optimizer= optimizer,\n",
    "                  metrics=['accuracy'])\n",
    "\n",
    "    return model\n"
   ]
  },
  {
   "cell_type": "markdown",
   "metadata": {
    "colab_type": "text",
    "id": "cIh7yrFhuQxQ"
   },
   "source": [
    "## Training Model"
   ]
  },
  {
   "cell_type": "code",
   "execution_count": 35,
   "metadata": {
    "colab": {},
    "colab_type": "code",
    "id": "PzyhQ-WGqN6R"
   },
   "outputs": [],
   "source": [
    "from keras.preprocessing.image import ImageDataGenerator\n",
    "from keras.callbacks import EarlyStopping, ModelCheckpoint, CSVLogger\n",
    "from keras.wrappers.scikit_learn import KerasClassifier\n",
    "import types\n",
    "\n",
    "\n",
    "class KerasBatchClassifier(KerasClassifier):\n",
    "\n",
    "    def fit(self, x_train, y_train, **kwargs):\n",
    "\n",
    "        # taken from keras.wrappers.scikit_learn.KerasClassifier.fit ###################################################\n",
    "        if self.build_fn is None:\n",
    "            self.model = self.__call__(**self.filter_sk_params(self.__call__))\n",
    "        elif not isinstance(self.build_fn, types.FunctionType) and not isinstance(self.build_fn, types.MethodType):\n",
    "            self.model = self.build_fn(**self.filter_sk_params(self.build_fn.__call__))\n",
    "        else:\n",
    "            self.model = self.build_fn(**self.filter_sk_params(self.build_fn))\n",
    "\n",
    "        loss_name = self.model.loss\n",
    "        if hasattr(loss_name, '__name__'):\n",
    "            loss_name = loss_name.__name__\n",
    "\n",
    "        if loss_name == 'categorical_crossentropy' and len(y_train.shape) != 2:\n",
    "            y_train = to_categorical(y_train)\n",
    "\n",
    "        ################################################################################################################\n",
    "\n",
    "        early_stopping = EarlyStopping( patience=5, verbose=5, mode=\"auto\")\n",
    "        model_checkpoint = ModelCheckpoint(\"train_model_{epoch:02d}_{val_accuracy:.5f}.hdf5\", verbose=5, save_best_only=True, mode=\"auto\")\n",
    "\n",
    "        callbacks = [early_stopping]\n",
    "\n",
    "        epochs = self.sk_params['epochs'] if 'epochs' in self.sk_params else 50\n",
    "\n",
    "        self.__history = self.model.fit_generator(\n",
    "            train_generator,  \n",
    "            validation_data=val_generator, \n",
    "            epochs=epochs,\n",
    "            callbacks=callbacks\n",
    "        )\n",
    "\n",
    "        return self.__history\n",
    "\n",
    "    def score(self, X, y, **kwargs):\n",
    "        kwargs = self.filter_sk_params(Sequential.evaluate, kwargs)\n",
    "\n",
    "        loss_name = self.model.loss\n",
    "        if hasattr(loss_name, '__name__'):\n",
    "            loss_name = loss_name.__name__\n",
    "        if loss_name == 'categorical_crossentropy' and len(y.shape) != 2:\n",
    "            y = to_categorical(y)\n",
    "        outputs = self.model.evaluate(X, y, **kwargs)\n",
    "        if type(outputs) is not list:\n",
    "            outputs = [outputs]\n",
    "        for name, output in zip(self.model.metrics_names, outputs):\n",
    "            if name == 'acc':\n",
    "                return output\n",
    "        raise Exception('The model is not configured to compute accuracy. '\n",
    "                        'You should pass `metrics=[\"accuracy\"]` to '\n",
    "                        'the `model.compile()` method.')\n",
    "\n",
    "    @property\n",
    "    def history(self):\n",
    "        return self.__history"
   ]
  },
  {
   "cell_type": "code",
   "execution_count": null,
   "metadata": {
    "colab": {
     "base_uri": "https://localhost:8080/",
     "height": 1000
    },
    "colab_type": "code",
    "id": "4MDKddz3OrS5",
    "outputId": "4def3af6-6f75-43e8-cc78-37e43b387edb"
   },
   "outputs": [],
   "source": [
    "model = KerasBatchClassifier(build_fn=make_model) \n",
    "\n",
    "# Define the range\n",
    "learning_rate = [0.001, 0.01]\n",
    "optimizer = [\"adam\", \"SGD\"]\n",
    "dropout = [0.25, 0.5] \n",
    "dense_layer_sizes = [512, 1024]\n",
    "\n",
    "# Prepare the Grid\n",
    "param_grid = dict(learning_rate = learning_rate,\n",
    "                  optimizer = optimizer,\n",
    "                  dropout = dropout,\n",
    "                  dense_layer_sizes = dense_layer_sizes)\n",
    "\n",
    "# GridSearch in action\n",
    "grid = GridSearchCV(estimator=model, \n",
    "                    param_grid=param_grid, \n",
    "                    scoring='neg_log_loss',\n",
    "                    cv =3,\n",
    "                    verbose = 2)\n",
    "\n",
    "grid_result = grid.fit(x_train, y_train, x_val = x_val, y_val = y_val)\n",
    "\n",
    "# Show the results\n",
    "print(\"Best: %f using %s\" % (grid_result.best_score_, grid_result.best_params_))\n",
    "means = grid_result.cv_results_['mean_test_score']\n",
    "stds = grid_result.cv_results_['std_test_score']\n",
    "params = grid_result.cv_results_['params']\n",
    "for mean, stdev, param in zip(means, stds, params):\n",
    "    print(\"%f (%f) with: %r\" % (mean, stdev, param))\n"
   ]
  },
  {
   "cell_type": "code",
   "execution_count": 41,
   "metadata": {
    "colab": {},
    "colab_type": "code",
    "id": "o_tDN3k6x3ZF"
   },
   "outputs": [],
   "source": [
    "from keras.callbacks import ModelCheckpoint, ReduceLROnPlateau\n",
    "\n",
    "bestValidationCheckpointer = ModelCheckpoint('train_model_4CNN.hdf5', monitor='val_loss', save_best_only=True, verbose=1)\n",
    "reduce_lr = ReduceLROnPlateau(monitor='val_loss', factor=0.2, patience=5, min_lr=0.001)\n"
   ]
  },
  {
   "cell_type": "code",
   "execution_count": 45,
   "metadata": {
    "colab": {
     "base_uri": "https://localhost:8080/",
     "height": 1000
    },
    "colab_type": "code",
    "id": "VGzTnDbGxPU0",
    "outputId": "37c4355b-a808-4180-af00-4a4c50ff12c3"
   },
   "outputs": [
    {
     "name": "stdout",
     "output_type": "stream",
     "text": [
      "Epoch 1/50\n",
      "187/188 [============================>.] - ETA: 1s - loss: 3.5539 - accuracy: 0.7063\n",
      "Epoch 00001: val_loss improved from inf to 2.91436, saving model to train_model_4CNN.hdf5\n",
      "188/188 [==============================] - 203s 1s/step - loss: 3.5414 - accuracy: 0.7067 - val_loss: 2.9144 - val_accuracy: 0.1287\n",
      "Epoch 2/50\n",
      "187/188 [============================>.] - ETA: 0s - loss: 0.7791 - accuracy: 0.8298\n",
      "Epoch 00002: val_loss improved from 2.91436 to 1.59086, saving model to train_model_4CNN.hdf5\n",
      "188/188 [==============================] - 188s 998ms/step - loss: 0.7780 - accuracy: 0.8300 - val_loss: 1.5909 - val_accuracy: 0.6325\n",
      "Epoch 3/50\n",
      "187/188 [============================>.] - ETA: 1s - loss: 0.5281 - accuracy: 0.8513\n",
      "Epoch 00003: val_loss improved from 1.59086 to 0.56883, saving model to train_model_4CNN.hdf5\n",
      "188/188 [==============================] - 206s 1s/step - loss: 0.5284 - accuracy: 0.8513 - val_loss: 0.5688 - val_accuracy: 0.8612\n",
      "Epoch 4/50\n",
      "187/188 [============================>.] - ETA: 0s - loss: 0.4786 - accuracy: 0.8638\n",
      "Epoch 00004: val_loss improved from 0.56883 to 0.44664, saving model to train_model_4CNN.hdf5\n",
      "188/188 [==============================] - 193s 1s/step - loss: 0.4783 - accuracy: 0.8639 - val_loss: 0.4466 - val_accuracy: 0.8739\n",
      "Epoch 5/50\n",
      "187/188 [============================>.] - ETA: 1s - loss: 0.4558 - accuracy: 0.8716\n",
      "Epoch 00005: val_loss improved from 0.44664 to 0.42034, saving model to train_model_4CNN.hdf5\n",
      "188/188 [==============================] - 202s 1s/step - loss: 0.4556 - accuracy: 0.8717 - val_loss: 0.4203 - val_accuracy: 0.8782\n",
      "Epoch 6/50\n",
      "187/188 [============================>.] - ETA: 0s - loss: 0.4331 - accuracy: 0.8763\n",
      "Epoch 00006: val_loss did not improve from 0.42034\n",
      "188/188 [==============================] - 176s 937ms/step - loss: 0.4335 - accuracy: 0.8762 - val_loss: 0.4317 - val_accuracy: 0.8698\n",
      "Epoch 7/50\n",
      "187/188 [============================>.] - ETA: 0s - loss: 0.4171 - accuracy: 0.8814\n",
      "Epoch 00007: val_loss improved from 0.42034 to 0.40605, saving model to train_model_4CNN.hdf5\n",
      "188/188 [==============================] - 130s 691ms/step - loss: 0.4170 - accuracy: 0.8814 - val_loss: 0.4061 - val_accuracy: 0.8823\n",
      "Epoch 8/50\n",
      "187/188 [============================>.] - ETA: 0s - loss: 0.4090 - accuracy: 0.8846\n",
      "Epoch 00008: val_loss improved from 0.40605 to 0.40006, saving model to train_model_4CNN.hdf5\n",
      "188/188 [==============================] - 173s 920ms/step - loss: 0.4091 - accuracy: 0.8846 - val_loss: 0.4001 - val_accuracy: 0.8856\n",
      "Epoch 9/50\n",
      "187/188 [============================>.] - ETA: 0s - loss: 0.3963 - accuracy: 0.8886\n",
      "Epoch 00009: val_loss improved from 0.40006 to 0.35241, saving model to train_model_4CNN.hdf5\n",
      "188/188 [==============================] - 194s 1s/step - loss: 0.3965 - accuracy: 0.8886 - val_loss: 0.3524 - val_accuracy: 0.9050\n",
      "Epoch 10/50\n",
      "187/188 [============================>.] - ETA: 0s - loss: 0.3920 - accuracy: 0.8892\n",
      "Epoch 00010: val_loss improved from 0.35241 to 0.33292, saving model to train_model_4CNN.hdf5\n",
      "188/188 [==============================] - 188s 1s/step - loss: 0.3915 - accuracy: 0.8893 - val_loss: 0.3329 - val_accuracy: 0.9120\n",
      "Epoch 11/50\n",
      "187/188 [============================>.] - ETA: 1s - loss: 0.3882 - accuracy: 0.8922\n",
      "Epoch 00011: val_loss did not improve from 0.33292\n",
      "188/188 [==============================] - 206s 1s/step - loss: 0.3877 - accuracy: 0.8925 - val_loss: 0.3416 - val_accuracy: 0.9058\n",
      "Epoch 12/50\n",
      "187/188 [============================>.] - ETA: 0s - loss: 0.3741 - accuracy: 0.8975\n",
      "Epoch 00012: val_loss did not improve from 0.33292\n",
      "188/188 [==============================] - 190s 1s/step - loss: 0.3752 - accuracy: 0.8971 - val_loss: 0.3481 - val_accuracy: 0.9054\n",
      "Epoch 13/50\n",
      "187/188 [============================>.] - ETA: 0s - loss: 0.3735 - accuracy: 0.8975\n",
      "Epoch 00013: val_loss did not improve from 0.33292\n",
      "188/188 [==============================] - 190s 1s/step - loss: 0.3740 - accuracy: 0.8974 - val_loss: 0.3407 - val_accuracy: 0.9064\n",
      "Epoch 14/50\n",
      "187/188 [============================>.] - ETA: 0s - loss: 0.3733 - accuracy: 0.8982\n",
      "Epoch 00014: val_loss did not improve from 0.33292\n",
      "188/188 [==============================] - 198s 1s/step - loss: 0.3734 - accuracy: 0.8982 - val_loss: 0.4009 - val_accuracy: 0.8918\n",
      "Epoch 15/50\n",
      "187/188 [============================>.] - ETA: 0s - loss: 0.3627 - accuracy: 0.8986\n",
      "Epoch 00015: val_loss improved from 0.33292 to 0.33169, saving model to train_model_4CNN.hdf5\n",
      "188/188 [==============================] - 189s 1s/step - loss: 0.3627 - accuracy: 0.8986 - val_loss: 0.3317 - val_accuracy: 0.9107\n",
      "Epoch 16/50\n",
      "187/188 [============================>.] - ETA: 0s - loss: 0.3561 - accuracy: 0.9028\n",
      "Epoch 00016: val_loss improved from 0.33169 to 0.32836, saving model to train_model_4CNN.hdf5\n",
      "188/188 [==============================] - 183s 971ms/step - loss: 0.3561 - accuracy: 0.9028 - val_loss: 0.3284 - val_accuracy: 0.9122\n",
      "Epoch 17/50\n",
      "187/188 [============================>.] - ETA: 0s - loss: 0.3562 - accuracy: 0.9041\n",
      "Epoch 00017: val_loss did not improve from 0.32836\n",
      "188/188 [==============================] - 170s 902ms/step - loss: 0.3559 - accuracy: 0.9042 - val_loss: 0.3447 - val_accuracy: 0.9064\n",
      "Epoch 18/50\n",
      "187/188 [============================>.] - ETA: 0s - loss: 0.3507 - accuracy: 0.9043\n",
      "Epoch 00018: val_loss did not improve from 0.32836\n",
      "188/188 [==============================] - 170s 905ms/step - loss: 0.3510 - accuracy: 0.9042 - val_loss: 0.3496 - val_accuracy: 0.9037\n",
      "Epoch 19/50\n",
      "187/188 [============================>.] - ETA: 0s - loss: 0.3482 - accuracy: 0.9060\n",
      "Epoch 00019: val_loss did not improve from 0.32836\n",
      "188/188 [==============================] - 188s 1s/step - loss: 0.3479 - accuracy: 0.9060 - val_loss: 0.3917 - val_accuracy: 0.8924\n",
      "Epoch 20/50\n",
      "187/188 [============================>.] - ETA: 0s - loss: 0.3473 - accuracy: 0.9052\n",
      "Epoch 00020: val_loss improved from 0.32836 to 0.31574, saving model to train_model_4CNN.hdf5\n",
      "188/188 [==============================] - 197s 1s/step - loss: 0.3468 - accuracy: 0.9054 - val_loss: 0.3157 - val_accuracy: 0.9147\n",
      "Epoch 21/50\n",
      "187/188 [============================>.] - ETA: 0s - loss: 0.3399 - accuracy: 0.9078\n",
      "Epoch 00021: val_loss did not improve from 0.31574\n",
      "188/188 [==============================] - 189s 1s/step - loss: 0.3397 - accuracy: 0.9079 - val_loss: 0.3343 - val_accuracy: 0.9092\n",
      "Epoch 22/50\n",
      "187/188 [============================>.] - ETA: 1s - loss: 0.3358 - accuracy: 0.9096\n",
      "Epoch 00022: val_loss improved from 0.31574 to 0.31300, saving model to train_model_4CNN.hdf5\n",
      "188/188 [==============================] - 198s 1s/step - loss: 0.3360 - accuracy: 0.9096 - val_loss: 0.3130 - val_accuracy: 0.9184\n",
      "Epoch 23/50\n",
      "187/188 [============================>.] - ETA: 0s - loss: 0.3380 - accuracy: 0.9102\n",
      "Epoch 00023: val_loss did not improve from 0.31300\n",
      "188/188 [==============================] - 195s 1s/step - loss: 0.3380 - accuracy: 0.9103 - val_loss: 0.3173 - val_accuracy: 0.9199\n",
      "Epoch 24/50\n",
      "187/188 [============================>.] - ETA: 0s - loss: 0.3316 - accuracy: 0.9109\n",
      "Epoch 00024: val_loss improved from 0.31300 to 0.31220, saving model to train_model_4CNN.hdf5\n",
      "188/188 [==============================] - 191s 1s/step - loss: 0.3316 - accuracy: 0.9110 - val_loss: 0.3122 - val_accuracy: 0.9169\n",
      "Epoch 25/50\n",
      "187/188 [============================>.] - ETA: 0s - loss: 0.3285 - accuracy: 0.9121\n",
      "Epoch 00025: val_loss did not improve from 0.31220\n",
      "188/188 [==============================] - 191s 1s/step - loss: 0.3283 - accuracy: 0.9121 - val_loss: 0.3269 - val_accuracy: 0.9124\n",
      "Epoch 26/50\n",
      "187/188 [============================>.] - ETA: 0s - loss: 0.3281 - accuracy: 0.9128\n",
      "Epoch 00026: val_loss improved from 0.31220 to 0.29946, saving model to train_model_4CNN.hdf5\n",
      "188/188 [==============================] - 185s 986ms/step - loss: 0.3282 - accuracy: 0.9127 - val_loss: 0.2995 - val_accuracy: 0.9196\n",
      "Epoch 27/50\n",
      "187/188 [============================>.] - ETA: 1s - loss: 0.3280 - accuracy: 0.9119\n",
      "Epoch 00027: val_loss did not improve from 0.29946\n",
      "188/188 [==============================] - 200s 1s/step - loss: 0.3278 - accuracy: 0.9120 - val_loss: 0.3379 - val_accuracy: 0.9094\n",
      "Epoch 28/50\n",
      "187/188 [============================>.] - ETA: 0s - loss: 0.3211 - accuracy: 0.9157\n",
      "Epoch 00028: val_loss did not improve from 0.29946\n",
      "188/188 [==============================] - 183s 973ms/step - loss: 0.3209 - accuracy: 0.9159 - val_loss: 0.3762 - val_accuracy: 0.9007\n",
      "Epoch 29/50\n",
      "187/188 [============================>.] - ETA: 0s - loss: 0.3142 - accuracy: 0.9158\n",
      "Epoch 00029: val_loss did not improve from 0.29946\n",
      "188/188 [==============================] - 194s 1s/step - loss: 0.3145 - accuracy: 0.9157 - val_loss: 0.3113 - val_accuracy: 0.9210\n",
      "Epoch 30/50\n",
      "187/188 [============================>.] - ETA: 1s - loss: 0.3143 - accuracy: 0.9180\n",
      "Epoch 00030: val_loss did not improve from 0.29946\n",
      "188/188 [==============================] - 205s 1s/step - loss: 0.3147 - accuracy: 0.9179 - val_loss: 0.3059 - val_accuracy: 0.9221\n",
      "Epoch 31/50\n",
      "187/188 [============================>.] - ETA: 0s - loss: 0.3194 - accuracy: 0.9160\n",
      "Epoch 00031: val_loss did not improve from 0.29946\n",
      "188/188 [==============================] - 197s 1s/step - loss: 0.3194 - accuracy: 0.9161 - val_loss: 0.3756 - val_accuracy: 0.8963\n",
      "Epoch 32/50\n",
      "187/188 [============================>.] - ETA: 1s - loss: 0.3129 - accuracy: 0.9193\n",
      "Epoch 00032: val_loss did not improve from 0.29946\n",
      "188/188 [==============================] - 208s 1s/step - loss: 0.3128 - accuracy: 0.9193 - val_loss: 0.3150 - val_accuracy: 0.9186\n",
      "Epoch 33/50\n",
      "187/188 [============================>.] - ETA: 1s - loss: 0.3142 - accuracy: 0.9175\n",
      "Epoch 00033: val_loss did not improve from 0.29946\n",
      "188/188 [==============================] - 202s 1s/step - loss: 0.3140 - accuracy: 0.9175 - val_loss: 0.3311 - val_accuracy: 0.9143\n",
      "Epoch 34/50\n",
      "187/188 [============================>.] - ETA: 1s - loss: 0.3054 - accuracy: 0.9211\n",
      "Epoch 00034: val_loss did not improve from 0.29946\n",
      "188/188 [==============================] - 203s 1s/step - loss: 0.3052 - accuracy: 0.9211 - val_loss: 0.3063 - val_accuracy: 0.9199\n",
      "Epoch 35/50\n",
      "187/188 [============================>.] - ETA: 1s - loss: 0.3065 - accuracy: 0.9201\n",
      "Epoch 00035: val_loss did not improve from 0.29946\n",
      "188/188 [==============================] - 207s 1s/step - loss: 0.3065 - accuracy: 0.9202 - val_loss: 0.3054 - val_accuracy: 0.9227\n",
      "Epoch 36/50\n",
      "187/188 [============================>.] - ETA: 0s - loss: 0.3041 - accuracy: 0.9217\n",
      "Epoch 00036: val_loss did not improve from 0.29946\n",
      "188/188 [==============================] - 180s 956ms/step - loss: 0.3038 - accuracy: 0.9218 - val_loss: 0.3289 - val_accuracy: 0.9105\n",
      "Epoch 37/50\n",
      "187/188 [============================>.] - ETA: 1s - loss: 0.2976 - accuracy: 0.9217\n",
      "Epoch 00037: val_loss did not improve from 0.29946\n",
      "188/188 [==============================] - 204s 1s/step - loss: 0.2977 - accuracy: 0.9218 - val_loss: 0.3126 - val_accuracy: 0.9206\n",
      "Epoch 38/50\n",
      "187/188 [============================>.] - ETA: 1s - loss: 0.3014 - accuracy: 0.9207\n",
      "Epoch 00038: val_loss did not improve from 0.29946\n",
      "188/188 [==============================] - 216s 1s/step - loss: 0.3012 - accuracy: 0.9207 - val_loss: 0.3132 - val_accuracy: 0.9187\n",
      "Epoch 39/50\n",
      "187/188 [============================>.] - ETA: 0s - loss: 0.2988 - accuracy: 0.9207\n",
      "Epoch 00039: val_loss did not improve from 0.29946\n",
      "188/188 [==============================] - 195s 1s/step - loss: 0.2991 - accuracy: 0.9206 - val_loss: 0.3502 - val_accuracy: 0.9047\n",
      "Epoch 40/50\n",
      "187/188 [============================>.] - ETA: 0s - loss: 0.2931 - accuracy: 0.9235\n",
      "Epoch 00040: val_loss did not improve from 0.29946\n",
      "188/188 [==============================] - 190s 1s/step - loss: 0.2928 - accuracy: 0.9237 - val_loss: 0.3363 - val_accuracy: 0.9134\n",
      "Epoch 41/50\n",
      "187/188 [============================>.] - ETA: 0s - loss: 0.2931 - accuracy: 0.9232\n",
      "Epoch 00041: val_loss did not improve from 0.29946\n",
      "188/188 [==============================] - 195s 1s/step - loss: 0.2933 - accuracy: 0.9231 - val_loss: 0.3241 - val_accuracy: 0.9162\n",
      "Epoch 42/50\n",
      "187/188 [============================>.] - ETA: 0s - loss: 0.2929 - accuracy: 0.9240\n",
      "Epoch 00042: val_loss improved from 0.29946 to 0.29699, saving model to train_model_4CNN.hdf5\n",
      "188/188 [==============================] - 187s 996ms/step - loss: 0.2933 - accuracy: 0.9240 - val_loss: 0.2970 - val_accuracy: 0.9273\n",
      "Epoch 43/50\n",
      "187/188 [============================>.] - ETA: 0s - loss: 0.2887 - accuracy: 0.9251\n",
      "Epoch 00043: val_loss improved from 0.29699 to 0.29162, saving model to train_model_4CNN.hdf5\n",
      "188/188 [==============================] - 195s 1s/step - loss: 0.2884 - accuracy: 0.9252 - val_loss: 0.2916 - val_accuracy: 0.9268\n",
      "Epoch 44/50\n",
      "187/188 [============================>.] - ETA: 0s - loss: 0.2893 - accuracy: 0.9254\n",
      "Epoch 00044: val_loss did not improve from 0.29162\n",
      "188/188 [==============================] - 179s 952ms/step - loss: 0.2892 - accuracy: 0.9254 - val_loss: 0.4075 - val_accuracy: 0.8954\n",
      "Epoch 45/50\n",
      "187/188 [============================>.] - ETA: 0s - loss: 0.2881 - accuracy: 0.9266\n",
      "Epoch 00045: val_loss did not improve from 0.29162\n",
      "188/188 [==============================] - 186s 989ms/step - loss: 0.2879 - accuracy: 0.9266 - val_loss: 0.3211 - val_accuracy: 0.9145\n",
      "Epoch 46/50\n",
      "187/188 [============================>.] - ETA: 0s - loss: 0.2789 - accuracy: 0.9285\n",
      "Epoch 00046: val_loss did not improve from 0.29162\n",
      "188/188 [==============================] - 183s 971ms/step - loss: 0.2798 - accuracy: 0.9282 - val_loss: 0.3315 - val_accuracy: 0.9112\n",
      "Epoch 47/50\n",
      "187/188 [============================>.] - ETA: 0s - loss: 0.2813 - accuracy: 0.9279\n",
      "Epoch 00047: val_loss did not improve from 0.29162\n",
      "188/188 [==============================] - 187s 996ms/step - loss: 0.2811 - accuracy: 0.9280 - val_loss: 0.2957 - val_accuracy: 0.9220\n",
      "Epoch 48/50\n",
      "187/188 [============================>.] - ETA: 0s - loss: 0.2819 - accuracy: 0.9276\n",
      "Epoch 00048: val_loss did not improve from 0.29162\n",
      "188/188 [==============================] - 186s 991ms/step - loss: 0.2818 - accuracy: 0.9276 - val_loss: 0.2921 - val_accuracy: 0.9254\n",
      "Epoch 49/50\n",
      "187/188 [============================>.] - ETA: 0s - loss: 0.2828 - accuracy: 0.9295\n",
      "Epoch 00049: val_loss did not improve from 0.29162\n",
      "188/188 [==============================] - 194s 1s/step - loss: 0.2827 - accuracy: 0.9296 - val_loss: 0.2935 - val_accuracy: 0.9283\n",
      "Epoch 50/50\n",
      "187/188 [============================>.] - ETA: 0s - loss: 0.2777 - accuracy: 0.9289\n",
      "Epoch 00050: val_loss improved from 0.29162 to 0.28237, saving model to train_model_4CNN.hdf5\n",
      "188/188 [==============================] - 182s 969ms/step - loss: 0.2777 - accuracy: 0.9288 - val_loss: 0.2824 - val_accuracy: 0.9254\n"
     ]
    }
   ],
   "source": [
    "model = make_model(0.01,\"adam\")\n",
    "history = model.fit_generator(train_generator, \n",
    "                              epochs=50,\n",
    "                              validation_data=val_generator, \n",
    "                              callbacks=[bestValidationCheckpointer, reduce_lr],\n",
    "                              verbose = 1)"
   ]
  },
  {
   "cell_type": "code",
   "execution_count": 46,
   "metadata": {
    "colab": {
     "base_uri": "https://localhost:8080/",
     "height": 235
    },
    "colab_type": "code",
    "id": "zf0zBiWQ2STV",
    "outputId": "356c8e03-87f0-4f7f-c0ef-ef162701820d"
   },
   "outputs": [
    {
     "data": {
      "image/png": "[encoded data removed]",
      "text/plain": [
       "<Figure size 432x288 with 1 Axes>"
      ]
     },
     "metadata": {
      "needs_background": "light"
     },
     "output_type": "display_data"
    },
    {
     "data": {
      "image/png": "[encoded data removed]",
      "text/plain": [
       "<Figure size 432x288 with 1 Axes>"
      ]
     },
     "metadata": {
      "needs_background": "light"
     },
     "output_type": "display_data"
    }
   ],
   "source": [
    "# Plot the chart for accuracy and loss on both training and validation\n",
    "\n",
    "import matplotlib.pyplot as plt\n",
    "acc = history.history['accuracy']\n",
    "val_acc = history.history['val_accuracy']\n",
    "loss = history.history['loss']\n",
    "val_loss = history.history['val_loss']\n",
    "\n",
    "epochs = range(len(acc))\n",
    "\n",
    "plt.plot(epochs, acc, 'r', label='Training accuracy')\n",
    "plt.plot(epochs, val_acc, 'b', label='Validation accuracy')\n",
    "plt.title('Training and validation accuracy')\n",
    "plt.legend()\n",
    "plt.figure()\n",
    "\n",
    "plt.plot(epochs, loss, 'r', label='Training Loss')\n",
    "plt.plot(epochs, val_loss, 'b', label='Validation Loss')\n",
    "plt.title('Training and validation loss')\n",
    "plt.legend()\n",
    "\n",
    "plt.show()"
   ]
  },
  {
   "cell_type": "code",
   "execution_count": 6,
   "metadata": {},
   "outputs": [
    {
     "name": "stdout",
     "output_type": "stream",
     "text": [
      "Test loss: 7.926684061869873\n",
      "Test accuracy: 0.9135\n"
     ]
    }
   ],
   "source": [
    "score = model.evaluate(x_val, y_val, verbose=0)\n",
    "print('Test loss:', score[0])\n",
    "print('Test accuracy:', score[1])"
   ]
  },
  {
   "cell_type": "code",
   "execution_count": null,
   "metadata": {},
   "outputs": [],
   "source": []
  }
 ],
 "metadata": {
  "accelerator": "GPU",
  "colab": {
   "collapsed_sections": [],
   "machine_shape": "hm",
   "name": "train_icdss",
   "provenance": []
  },
  "kernelspec": {
   "display_name": "Python 3",
   "language": "python",
   "name": "python3"
  },
  "language_info": {
   "codemirror_mode": {
    "name": "ipython",
    "version": 3
   },
   "file_extension": ".py",
   "mimetype": "text/x-python",
   "name": "python",
   "nbconvert_exporter": "python",
   "pygments_lexer": "ipython3",
   "version": "3.7.3"
  }
 },
 "nbformat": 4,
 "nbformat_minor": 2
}
